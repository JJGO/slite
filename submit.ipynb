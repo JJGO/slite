{
 "cells": [
  {
   "cell_type": "code",
   "execution_count": 1,
   "metadata": {},
   "outputs": [],
   "source": [
    "# IonPy\n",
    "import IonPy as ip\n",
    "\n",
    "# Misc Imports\n",
    "import yaml\n",
    "\n",
    "%load_ext yamlmagic"
   ]
  },
  {
   "cell_type": "code",
   "execution_count": 22,
   "metadata": {},
   "outputs": [
    {
     "data": {
      "application/javascript": "\n            require(\n                [\n                    \"notebook/js/codecell\",\n                    \"codemirror/mode/yaml/yaml\"\n                ],\n                function(cc){\n                    cc.CodeCell.options_default.highlight_modes.magic_yaml = {\n                        reg: [\"^%%yaml\"]\n                    }\n                }\n            );\n            ",
      "text/plain": [
       "<IPython.core.display.Javascript object>"
      ]
     },
     "metadata": {},
     "output_type": "display_data"
    }
   ],
   "source": [
    "%%yaml default_cfg \n",
    "\n",
    "experiment:\n",
    "  seed: 42\n",
    "    \n",
    "dataloader:\n",
    "  batch_size: 1\n",
    "  num_workers: 1\n",
    "  pin_memory: False\n",
    "\n",
    "optim: \n",
    "  _class: torch.optim.Adam\n",
    "  lr: 1.0e-4\n",
    "  \n",
    "train:\n",
    "  iterations: 100000\n",
    "  \n",
    "log:\n",
    "  checkpoint_freq: 1000 \n",
    "  root: '?'\n",
    "  metrics:\n",
    "    dice_score:\n",
    "      _fn: pylot.metrics.dice_score\n",
    "      from_logits: True\n",
    "      batch_reduction: 'mean' \n",
    "\n",
    "data:\n",
    "  datasets: [\"WBC\"]\n",
    "  version: v4.2\n",
    "  \n",
    "callbacks:\n",
    "  epoch:\n",
    "    - ip.callbacks.PrintLogged\n",
    "    - ip.callbacks.ETA\n",
    "    - ip.callbacks.JobProgress\n",
    "    - ip.callbacks.TerminateOnNaN"
   ]
  },
  {
   "cell_type": "code",
   "execution_count": null,
   "metadata": {},
   "outputs": [],
   "source": [
    "%%yaml model_cfg  \n",
    "\n",
    "model:\n",
    "  _class: universeg.experiment.models.ContextFeatures\n",
    "  context_filters: [32,32,32,32]\n",
    "  mix_filters: [32,32,32,32]"
   ]
  },
  {
   "cell_type": "code",
   "execution_count": null,
   "metadata": {},
   "outputs": [],
   "source": [
    "%%yaml dataset_cfg \n",
    "\n",
    "data:\n",
    "  _class: universeg.experiment.datasets.MultiBinarySegment2D\n",
    "  support_size: '?'"
   ]
  },
  {
   "cell_type": "code",
   "execution_count": 3,
   "metadata": {},
   "outputs": [],
   "source": [
    "options = {}"
   ]
  },
  {
   "cell_type": "code",
   "execution_count": 12,
   "metadata": {},
   "outputs": [],
   "source": [
    "from IonPy.util.config import check_missing\n",
    "\n",
    "def validate_cfg(cfg):\n",
    "\n",
    "    # Ensure no missing ? markers\n",
    "    check_missing(cfg)\n",
    "                  \n",
    "    return cfg"
   ]
  },
  {
   "cell_type": "code",
   "execution_count": 19,
   "metadata": {},
   "outputs": [],
   "source": [
    "from IonPy.util import dict_product, Config\n",
    "\n",
    "base_cfg = Config(default_cfg).update(model_cfg).update(dataset_cfg)\n",
    "\n",
    "cfgs = []\n",
    "for cfg_update in dict_product(options):\n",
    "    cfg = base_cfg.update(cfg_update)\n",
    "    cfg = validate_cfg(cfg)\n",
    "    cfgs.append(cfg)"
   ]
  },
  {
   "cell_type": "code",
   "execution_count": 1,
   "metadata": {},
   "outputs": [
    {
     "ename": "ImportError",
     "evalue": "cannot import name 'get_remote_resources' from 'IonPy.util' (/Users/victo/Projects/IonPy/util/__init__.py)",
     "output_type": "error",
     "traceback": [
      "\u001b[0;31m---------------------------------------------------------------------------\u001b[0m",
      "\u001b[0;31mImportError\u001b[0m                               Traceback (most recent call last)",
      "Cell \u001b[0;32mIn[1], line 2\u001b[0m\n\u001b[1;32m      1\u001b[0m \u001b[39m# Get the current remote resources from the CAML cluster\u001b[39;00m\n\u001b[0;32m----> 2\u001b[0m \u001b[39mfrom\u001b[39;00m \u001b[39mIonPy\u001b[39;00m\u001b[39m.\u001b[39;00m\u001b[39mutil\u001b[39;00m \u001b[39mimport\u001b[39;00m get_remote_resources\n\u001b[1;32m      4\u001b[0m resources \u001b[39m=\u001b[39m get_remote_resources()\n",
      "\u001b[0;31mImportError\u001b[0m: cannot import name 'get_remote_resources' from 'IonPy.util' (/Users/victo/Projects/IonPy/util/__init__.py)"
     ]
    }
   ],
   "source": [
    "# Get the current remote resources from the CAML cluster\n",
    "from slurmlite import ExperimentManager \n",
    "\n",
    "em = ExperimentManager()"
   ]
  },
  {
   "cell_type": "code",
   "execution_count": 3,
   "metadata": {},
   "outputs": [
    {
     "ename": "NameError",
     "evalue": "name 'em' is not defined",
     "output_type": "error",
     "traceback": [
      "\u001b[0;31m---------------------------------------------------------------------------\u001b[0m",
      "\u001b[0;31mNameError\u001b[0m                                 Traceback (most recent call last)",
      "Cell \u001b[0;32mIn[3], line 3\u001b[0m\n\u001b[1;32m      1\u001b[0m \u001b[39m# This returns a dataframe with each server and each gpu \u001b[39;00m\n\u001b[1;32m      2\u001b[0m \u001b[39m# with th memory which is used.\u001b[39;00m\n\u001b[0;32m----> 3\u001b[0m em\u001b[39m.\u001b[39mget_remote_resources()\n",
      "\u001b[0;31mNameError\u001b[0m: name 'em' is not defined"
     ]
    }
   ],
   "source": [
    "# This returns a dataframe with each server and each gpu \n",
    "# with th memory which is used.\n",
    "em.get_remote_resources()"
   ]
  },
  {
   "cell_type": "code",
   "execution_count": 21,
   "metadata": {},
   "outputs": [
    {
     "data": {
      "text/plain": [
       "[None]"
      ]
     },
     "execution_count": 21,
     "metadata": {},
     "output_type": "execute_result"
    }
   ],
   "source": [
    "import paramiko\n",
    "\n",
    "# Load YAML configs\n",
    "with open('config.yml', 'r') as f:\n",
    "    configs = yaml.safe_load(f)\n",
    "\n",
    "# Establish SSH connection\n",
    "ssh = paramiko.SSHClient()\n",
    "ssh.set_missing_host_key_policy(paramiko.AutoAddPolicy())\n",
    "ssh.connect(configs['remote_host'], username=configs['remote_username'], password=configs['remote_password'])\n",
    "\n",
    "# Execute machine learning run\n",
    "cmd = f\"python {configs['script']} --config {configs['config_file']} --data {configs['data_dir']}\"\n",
    "stdin, stdout, stderr = ssh.exec_command(cmd)\n",
    "output = stdout.read().decode()\n",
    "errors = stderr.read().decode()\n",
    "\n",
    "# Print output and errors\n",
    "print(output)\n",
    "print(errors)\n",
    "\n",
    "# Close SSH connection\n",
    "ssh.close()"
   ]
  }
 ],
 "metadata": {
  "kernelspec": {
   "display_name": "Research",
   "language": "python",
   "name": "research"
  },
  "language_info": {
   "codemirror_mode": {
    "name": "ipython",
    "version": 3
   },
   "file_extension": ".py",
   "mimetype": "text/x-python",
   "name": "python",
   "nbconvert_exporter": "python",
   "pygments_lexer": "ipython3",
   "version": "3.11.2"
  },
  "orig_nbformat": 4
 },
 "nbformat": 4,
 "nbformat_minor": 2
}
