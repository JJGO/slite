{
 "cells": [
  {
   "cell_type": "code",
   "execution_count": null,
   "id": "a280d1d2",
   "metadata": {},
   "outputs": [],
   "source": [
    "# In this notebook, I am going to demo a body of code that can look at the current jobs I am running\n",
    "# (/ have run?) and can give me a brief description of the job. Some statistics I definitely want to \n",
    "# have access to are if the job is - FINISHED CRASHED RUNNING - (status) and then things about the jobs\n",
    "# I will be building off of the infastructure that submitit has already implemented. The problem with \n",
    "# existing infastructure being that as of this moment. I don't know what jobs are on which GPUs, I don't\n",
    "# know if they have crashed or not, and many other things."
   ]
  }
 ],
 "metadata": {
  "kernelspec": {
   "display_name": "UniverSegTF",
   "language": "python",
   "name": "universegtf"
  },
  "language_info": {
   "codemirror_mode": {
    "name": "ipython",
    "version": 3
   },
   "file_extension": ".py",
   "mimetype": "text/x-python",
   "name": "python",
   "nbconvert_exporter": "python",
   "pygments_lexer": "ipython3",
   "version": "3.9.13"
  }
 },
 "nbformat": 4,
 "nbformat_minor": 5
}
